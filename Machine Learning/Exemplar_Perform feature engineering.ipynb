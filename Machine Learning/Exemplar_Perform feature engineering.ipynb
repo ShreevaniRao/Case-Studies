{
  "metadata": {
    "colab": {
      "collapsed_sections": [],
      "provenance": []
    },
    "kernelspec": {
      "name": "python",
      "display_name": "Python (Pyodide)",
      "language": "python"
    },
    "language_info": {
      "codemirror_mode": {
        "name": "python",
        "version": 3
      },
      "file_extension": ".py",
      "mimetype": "text/x-python",
      "name": "python",
      "nbconvert_exporter": "python",
      "pygments_lexer": "ipython3",
      "version": "3.8"
    }
  },
  "nbformat_minor": 4,
  "nbformat": 4,
  "cells": [
    {
      "cell_type": "markdown",
      "source": "# Perform feature engineering",
      "metadata": {
        "id": "yugMU9MjJtBl"
      }
    },
    {
      "cell_type": "markdown",
      "source": "## **Introduction**\n\n\nAs data professionals working on modeling projects, use featuring engineering to help them determine which attributes in the data can best predict certain measures.\n\nIn this Scenario, I worked for a firm that provides insights to the National Basketball Association (NBA), a professional North American basketball league. I will help NBA managers and coaches identify which players are most likely to thrive in the high-pressure environment of professional basketball and help the team be successful over time.\n\nTo do this, I will analyze a subset of data that contains information about NBA players and their performance records. I will conduct feature engineering to determine which features will most effectively predict whether a player's NBA career will last at least five years. The insights gained then will be used in the next stage of the project: building the predictive model.\n",
      "metadata": {
        "id": "EzWqJunmJotv"
      }
    },
    {
      "cell_type": "markdown",
      "source": "## **Step 1: Imports** ",
      "metadata": {
        "id": "yTVinL1hJqoy"
      }
    },
    {
      "cell_type": "code",
      "source": "# Import pandas.\nimport pandas as pd",
      "metadata": {
        "id": "1nDjAJPa4lVZ",
        "trusted": true
      },
      "execution_count": null,
      "outputs": []
    },
    {
      "cell_type": "markdown",
      "source": "The dataset is a .csv file named `nba-players.csv`. It consists of performance records for a subset of NBA players.",
      "metadata": {
        "id": "hKylHziGzY3X"
      }
    },
    {
      "cell_type": "code",
      "source": "# Save in a variable named `data`.\n\ndata = pd.read_csv(\"nba-players.csv\", index_col=0)",
      "metadata": {
        "id": "4ebqpNcm4BDH",
        "trusted": true
      },
      "execution_count": null,
      "outputs": []
    },
    {
      "cell_type": "code",
      "source": "## **Step 2: Data exploration** ",
      "metadata": {
        "id": "4zz8claq0Swi"
      },
      "execution_count": null,
      "outputs": []
    },
    {
      "cell_type": "markdown",
      "source": "Display the first 10 rows of the data to get a sense of what it entails.",
      "metadata": {
        "id": "8kgPx_MP0cuc"
      }
    },
    {
      "cell_type": "code",
      "source": "# Display first 10 rows of data.\ndata.head(10)",
      "metadata": {
        "colab": {
          "base_uri": "https://localhost:8080/",
          "height": 630
        },
        "executionInfo": {
          "elapsed": 20,
          "status": "ok",
          "timestamp": 1661375209750,
          "user": {
            "displayName": "Lavanya Vijayan",
            "userId": "01043085078394539645"
          },
          "user_tz": 420
        },
        "id": "0_U0Rb-x4h77",
        "outputId": "ce931bb7-aa8e-43d6-9475-6afc14a4c8b9",
        "trusted": true
      },
      "execution_count": null,
      "outputs": []
    },
    {
      "cell_type": "markdown",
      "source": "Display the number of rows and the number of columns to get a sense of how much data is available to you.",
      "metadata": {
        "id": "Gjasizab0tSL"
      }
    },
    {
      "cell_type": "code",
      "source": "# Display number of rows, number of columns.\ndata.shape",
      "metadata": {
        "colab": {
          "base_uri": "https://localhost:8080/"
        },
        "executionInfo": {
          "elapsed": 17,
          "status": "ok",
          "timestamp": 1661375209750,
          "user": {
            "displayName": "Lavanya Vijayan",
            "userId": "01043085078394539645"
          },
          "user_tz": 420
        },
        "id": "xtxpSjCm4jCa",
        "outputId": "c4db94fa-839a-4a22-a65a-3bc6d0f6dea2",
        "trusted": true
      },
      "execution_count": null,
      "outputs": []
    },
    {
      "cell_type": "markdown",
      "source": "**Question:** What do you observe about the number of rows and the number of columns in the data?\n- There are 1,340 rows and 21 columns in the data.",
      "metadata": {
        "id": "zZndsnPq1UyL"
      }
    },
    {
      "cell_type": "markdown",
      "source": "Now, display all column names to get a sense of the kinds of metadata available about each player. Use the columns property in pandas.\n",
      "metadata": {
        "id": "27OsOXsfVPC7"
      }
    },
    {
      "cell_type": "code",
      "source": "# Display all column names\ndata.columns",
      "metadata": {
        "colab": {
          "base_uri": "https://localhost:8080/"
        },
        "executionInfo": {
          "elapsed": 13,
          "status": "ok",
          "timestamp": 1661375209751,
          "user": {
            "displayName": "Lavanya Vijayan",
            "userId": "01043085078394539645"
          },
          "user_tz": 420
        },
        "id": "3q9zjB-s1SZt",
        "outputId": "e01e1855-7f8c-48fa-d9a7-6f2778f463d3",
        "trusted": true
      },
      "execution_count": null,
      "outputs": []
    },
    {
      "cell_type": "markdown",
      "source": "The following table provides a description of the data in each column. This metadata comes from the data source, which is listed in the references section of this lab.\n\n<center>\n\n|Column Name|Column Description|\n|:---|:-------|\n|`name`|Name of NBA player|\n|`gp`|Number of games played|\n|`min`|Number of minutes played per game|\n|`pts`|Average number of points per game|\n|`fgm`|Average number of field goals made per game|\n|`fga`|Average number of field goal attempts per game|\n|`fg`|Average percent of field goals made per game|\n|`3p_made`|Average number of three-point field goals made per game|\n|`3pa`|Average number of three-point field goal attempts per game|\n|`3p`|Average percent of three-point field goals made per game|\n|`ftm`|Average number of free throws made per game|\n|`fta`|Average number of free throw attempts per game|\n|`ft`|Average percent of free throws made per game|\n|`oreb`|Average number of offensive rebounds per game|\n|`dreb`|Average number of defensive rebounds per game|\n|`reb`|Average number of rebounds per game|\n|`ast`|Average number of assists per game|\n|`stl`|Average number of steals per game|\n|`blk`|Average number of blocks per game|\n|`tov`|Average number of turnovers per game|\n|`target_5yrs`|1 if career duration >= 5 yrs, 0 otherwise|\n\n</center>",
      "metadata": {
        "id": "8agSxx2RWUac"
      }
    },
    {
      "cell_type": "markdown",
      "source": "Next, display a summary of the data to get additional information about the DataFrame, including the types of data in the columns.",
      "metadata": {
        "id": "HvomDnvFq4DW"
      }
    },
    {
      "cell_type": "code",
      "source": "# Use .info() to display a summary of the DataFrame.\ndata.info()",
      "metadata": {
        "colab": {
          "base_uri": "https://localhost:8080/"
        },
        "executionInfo": {
          "elapsed": 202,
          "status": "ok",
          "timestamp": 1661375219641,
          "user": {
            "displayName": "Lavanya Vijayan",
            "userId": "01043085078394539645"
          },
          "user_tz": 420
        },
        "id": "_MB02V1OpDjt",
        "outputId": "eeb1e421-13a6-4a1a-ff65-56b39bfcd584",
        "trusted": true
      },
      "execution_count": null,
      "outputs": []
    },
    {
      "cell_type": "markdown",
      "source": "**Question:** Based on the preceding tables, which columns are numerical and which columns are categorical?\n- Based on the preceding tables, the `name` column is categorical, and the rest of the columns are numerical.",
      "metadata": {
        "id": "0ajEYod6B7QJ"
      }
    },
    {
      "cell_type": "markdown",
      "source": "### Check for missing values",
      "metadata": {
        "id": "VtL_ZDZC1xgF"
      }
    },
    {
      "cell_type": "markdown",
      "source": "Now, review the data to determine whether it contains any missing values. Begin by displaying the number of missing values in each column. After that, use isna() to check whether each value in the data is missing. Finally, use sum() to aggregate the number of missing values per column.",
      "metadata": {}
    },
    {
      "cell_type": "code",
      "source": "# Display the number of missing values in each column.\n# Check whether each value is missing.\n#Aggregate the number of missing values per column.\ndata.isna().sum()",
      "metadata": {
        "colab": {
          "base_uri": "https://localhost:8080/"
        },
        "executionInfo": {
          "elapsed": 232,
          "status": "ok",
          "timestamp": 1659733318465,
          "user": {
            "displayName": "Lavanya Vijayan",
            "userId": "01043085078394539645"
          },
          "user_tz": 420
        },
        "id": "_EGgJ5k92KX_",
        "outputId": "97ff8c1e-7d5c-4a38-ef8d-802f797b621a",
        "trusted": true
      },
      "execution_count": null,
      "outputs": []
    },
    {
      "cell_type": "markdown",
      "source": "**Question:** What do you observe about the missing values in the columns? \nAll columns in this dataset have 0 missing values. \n",
      "metadata": {
        "id": "qcLj6oPd2FVQ"
      }
    },
    {
      "cell_type": "markdown",
      "source": "**Question:** Why is it important to check for missing values?\nChecking for missing values is an important step in data exploration. Missing values are not particularly useful, so it's important to handle them by cleaning the data.",
      "metadata": {}
    },
    {
      "cell_type": "markdown",
      "source": "## **Step 3: Statistical tests** ",
      "metadata": {
        "id": "MY0rAjlZAheh"
      }
    },
    {
      "cell_type": "markdown",
      "source": "Next, use a statistical technique to check the class balance in the data. To understand how balanced the dataset is in terms of class, display the percentage of values that belong to each class in the target column. In this context, class 1 indicates an NBA career duration of at least five years, while class 0 indicates an NBA career duration of less than five years.",
      "metadata": {
        "id": "v6VpTiBeGvyO"
      }
    },
    {
      "cell_type": "code",
      "source": "# Display percentage (%) of values for each class (1, 0) represented in the target column of this dataset.\ndata[\"target_5yrs\"].value_counts(normalize=True)*100",
      "metadata": {
        "colab": {
          "base_uri": "https://localhost:8080/"
        },
        "executionInfo": {
          "elapsed": 44,
          "status": "ok",
          "timestamp": 1659733318471,
          "user": {
            "displayName": "Lavanya Vijayan",
            "userId": "01043085078394539645"
          },
          "user_tz": 420
        },
        "id": "gUEgzQW_6oMV",
        "outputId": "b2d22133-9d37-4200-f640-f164279990e7",
        "trusted": true
      },
      "execution_count": null,
      "outputs": []
    },
    {
      "cell_type": "markdown",
      "source": "**Question:** What do you observe about the class balance in the target column?\n- About 62% of the values in the target columm belong to class 1, and about 38% of the values belong to class 0. In other words, about 62% of players represented by this data have an NBA career duration of at least five years, and about 38% do not. \n- The dataset is not perfectly balanced, but an exact 50-50 split is a rare occurance in datasets, and a 62-38 split is not too imbalanced. However, if the majority class made up 90% or more of the dataset, then that would be of concern, and it would be prudent to address that issue through techniques like upsampling and downsampling. ",
      "metadata": {
        "id": "uMcdNVQW8K2D"
      }
    },
    {
      "cell_type": "markdown",
      "source": "**Question:** Why is it important to check class balance?\n\n\nIf there is a lot more representation of one class than another, then the model may be biased toward the majority class. When this happens, the predictions may be inaccurate. ",
      "metadata": {}
    },
    {
      "cell_type": "markdown",
      "source": "## **Step 4: Results and evaluation** \n\n\nNow, perform feature engineering, with the goal of identifying and creating features that will serve as useful predictors for the target variable, `target_5yrs`. ",
      "metadata": {
        "id": "qgV_6xAQAvgg"
      }
    },
    {
      "cell_type": "markdown",
      "source": "### Feature Selection",
      "metadata": {
        "id": "r-UHtsTnA5kE"
      }
    },
    {
      "cell_type": "markdown",
      "source": "The following table contains descriptions of the data in each column:\n\n<center>\n\n|Column Name|Column Description|\n|:---|:-------|\n|`name`|Name of NBA player|\n|`gp`|Number of games played|\n|`min`|Number of minutes played|\n|`pts`|Average number of points per game|\n|`fgm`|Average number of field goals made per game|\n|`fga`|Average number of field goal attempts per game|\n|`fg`|Average percent of field goals made per game|\n|`3p_made`|Average number of three-point field goals made per game|\n|`3pa`|Average number of three-point field goal attempts per game|\n|`3p`|Average percent of three-point field goals made per game|\n|`ftm`|Average number of free throws made per game|\n|`fta`|Average number of free throw attempts per game|\n|`ft`|Average percent of free throws made per game|\n|`oreb`|Average number of offensive rebounds per game|\n|`dreb`|Average number of defensive rebounds per game|\n|`reb`|Average number of rebounds per game|\n|`ast`|Average number of assists per game|\n|`stl`|Average number of steals per game|\n|`blk`|Average number of blocks per game|\n|`tov`|Average number of turnovers per game|\n|`target_5yrs`|1 if career duration >= 5 yrs, 0 otherwise|\n\n</center>",
      "metadata": {
        "id": "atQDf16fK4in"
      }
    },
    {
      "cell_type": "markdown",
      "source": "**Question:** Which columns would you select and avoid selecting as features, and why? Keep in mind the goal is to identify features that will serve as useful predictors for the target variable, `target_5yrs`.  \n\n- You should avoid selecting the `name` column as a feature. A player's name is not helpful in determining their career duration. Moreover, it may not be ethical or fair to predict a player's career duration based on a name.\n- The number of games a player has played in may not be as important in determining their career duration as the number of points they have earned. While you could say that someone who has played in more games may have more practice and experience, the points they earn during the games they played in would speak more to their performance as a player. This, in turn, would influence their career duration. So, the `gp` column on its own may not be a helpful feature. However, `gp` and `pts` could be combined to get the total number of points earned across the games played, and that result could be a helpful feature. That approach can be implemented later in the feature engineering process—in feature extraction. \n- If the number of points earned across games will be extracted as a feature, then that could be combined with the number of minutes played across games (`min * gp`) to extract another feature. This could be a measure of players' efficiency and could help in predicting players' career duration. `min` on its own may not be useful as a feature for the same reason as `gp`.\n- There are three different columns that give information about field goals. The percent of field goals a player makes (`fg`) says more about their performance than the number of field goals they make (`fgm`) or the number of field goals they attempt (`fga`). The percent gives more context, as it takes into account both how many field goals a player successfully made and how many field goals they attempted in total. This allows for a more meaningful comparison between players. The same logic applies to the percent of three-point field goals made, as well as the percent of free throws made. \n- There are columns for the number offensive rebounds (`oreb`), the number of defensive rebounds (`dreb`), and the number of rebounds overall (`reb`). Because the overall number of rebounds should already incorporate both offensive and defensive rebounds, it would make sense to use the overall as a feature. \n- The number of assists (`ast`), steals (`stl`), blocks (`blk`), and turnovers (`tov`) also provide information about how well players are performing in games, and thus, could be helpful in predicting how long players last in the league. \n\nTherefore, at this stage of the feature engineering process, it would be most effective to select the following columns: \n\n`gp`, `min`, `pts`, `fg`, `3p`, `ft`, `reb`, `ast`, `stl`, `blk`, `tov`.",
      "metadata": {
        "id": "uyUtq03NKe69"
      }
    },
    {
      "cell_type": "markdown",
      "source": "Next, select the columns you want to proceed with. Make sure to include the target column, `target_5yrs`. Display the first few rows to confirm they are as expected.",
      "metadata": {
        "id": "f0EgC-r_X_gk"
      }
    },
    {
      "cell_type": "code",
      "source": "# Select the columns to proceed with and save the DataFrame in new variable `selected_data`.\n# Include the target column, `target_5yrs`.\n\nselected_data = data[[\"gp\", \"min\", \"pts\", \"fg\", \"3p\", \"ft\", \"reb\", \"ast\", \"stl\", \"blk\", \"tov\", \"target_5yrs\"]]\n\n# Display the first few rows.\n\nselected_data.head()",
      "metadata": {
        "colab": {
          "base_uri": "https://localhost:8080/",
          "height": 206
        },
        "executionInfo": {
          "elapsed": 39,
          "status": "ok",
          "timestamp": 1659733318472,
          "user": {
            "displayName": "Lavanya Vijayan",
            "userId": "01043085078394539645"
          },
          "user_tz": 420
        },
        "id": "jeLHjMh_XwsU",
        "outputId": "e0981bf0-e148-465b-fe79-a4a76f05c2fa",
        "trusted": true
      },
      "execution_count": null,
      "outputs": []
    },
    {
      "cell_type": "markdown",
      "source": "### Feature transformation",
      "metadata": {
        "id": "m9SD-zhXCLSm"
      }
    },
    {
      "cell_type": "markdown",
      "source": "An important aspect of feature transformation is feature encoding. If there are categorical columns that you would want to use as features, those columns should be transformed to be numerical. This technique is also known as feature encoding.",
      "metadata": {
        "id": "UQwsbcQHWeX1"
      }
    },
    {
      "cell_type": "markdown",
      "source": "**Question:** Why is feature transformation important to consider? Are there any transformations necessary for the features you want to use?\n- Many types of models are designed in a way that requires the data coming in to be numerical. So, transforming categorical features into numerical features is an important step. \n- In this particular dataset, `name` is the only categorical column and the other columns are numerical (discussed in response to Question 2). Given that `name` is not selected as a feature, all of the features that are selected at this point are already numerical and do not require transformation. ",
      "metadata": {
        "id": "IMm2PPbvOUHb"
      }
    },
    {
      "cell_type": "markdown",
      "source": "### Feature extraction",
      "metadata": {
        "id": "yMK4zXxQCNYH"
      }
    },
    {
      "cell_type": "markdown",
      "source": "Display the first few rows containing containing descriptions of the data for reference. The table is as follows:\n\n<center>\n\n|Column Name|Column Description|\n|:---|:-------|\n|`name`|Name of NBA player|\n|`gp`|Number of games played|\n|`min`|Number of minutes played per game|\n|`pts`|Average number of points per game|\n|`fgm`|Average number of field goals made per game|\n|`fga`|Average number of field goal attempts per game|\n|`fg`|Average percent of field goals made per game|\n|`3p_made`|Average number of three-point field goals made per game|\n|`3pa`|Average number of three-point field goal attempts per game|\n|`3p`|Average percent of three-point field goals made per game|\n|`ftm`|Average number of free throws made per game|\n|`fta`|Average number of free throw attempts per game|\n|`ft`|Average percent of free throws made per game|\n|`oreb`|Average number of offensive rebounds per game|\n|`dreb`|Average number of defensive rebounds per game|\n|`reb`|Average number of rebounds per game|\n|`ast`|Average number of assists per game|\n|`stl`|Average number of steals per game|\n|`blk`|Average number of blocks per game|\n|`tov`|Average number of turnovers per game|\n|`target_5yrs`|1 if career duration >= 5 yrs, 0 otherwise|\n\n</center>",
      "metadata": {
        "id": "LwU2VgiyfLg7"
      }
    },
    {
      "cell_type": "code",
      "source": "# Display the first few rows of `selected_data` for reference.\nselected_data.head()",
      "metadata": {
        "colab": {
          "base_uri": "https://localhost:8080/",
          "height": 206
        },
        "executionInfo": {
          "elapsed": 40,
          "status": "ok",
          "timestamp": 1659733318477,
          "user": {
            "displayName": "Lavanya Vijayan",
            "userId": "01043085078394539645"
          },
          "user_tz": 420
        },
        "id": "TImr9RUzfNNk",
        "outputId": "d4b9674e-72bd-4b1d-f1e1-87081b03e1b7",
        "trusted": true
      },
      "execution_count": null,
      "outputs": []
    },
    {
      "cell_type": "markdown",
      "source": "**Question:** Which columns lend themselves to feature extraction?\n\n- The `gp`, `pts`, `min` columns lend themselves to feature extraction.\n  - `gp` represents the total number of games a player has played in, and `pts` represents the average number of points the player has earned per game. It might be helpful to combine these columns to get the total number of points the player has earned across the games and use the result as a new feature, which could be added into a new column named `total_points`. The total points earned by a player can reflect their performance and shape their career longevity. \n  - The `min` column represents the average number of minutes played per game. `total_points` could be combined with `min` and `gp` to extract a new feature: points earned per minute. This can be considered a measure of player efficiency, which could shape career duration. This feature can be added into a column named `efficiency`.",
      "metadata": {
        "id": "c5GvdO_Ddgcv"
      }
    },
    {
      "cell_type": "markdown",
      "source": "Extract two features that you think would help predict `target_5yrs`. Then, create a new variable named 'extracted_data' that contains features from 'selected_data', as well as the features being extracted.",
      "metadata": {
        "id": "TzdzdImXmlVV"
      }
    },
    {
      "cell_type": "code",
      "source": "# Extract two features that would help predict target_5yrs.\n# Create a new variable named `extracted_data`.\n\n# Make a copy of `selected_data` \nextracted_data = selected_data.copy()\n\n# Add a new column named `total_points`; \n# Calculate total points earned by multiplying the number of games played by the average number of points earned per game\nextracted_data[\"total_points\"] = extracted_data[\"gp\"] * extracted_data[\"pts\"]\n\n# Add a new column named `efficiency`. Calculate efficiency by dividing the total points earned by the total number \n# of minutes played, which yields points per minute. (Note that `min` represents avg. minutes per game.)\nextracted_data[\"efficiency\"] = extracted_data[\"total_points\"] / (extracted_data[\"min\"] * extracted_data[\"gp\"])\n\n# Display the first few rows of `extracted_data` to confirm that the new columns were added.\nextracted_data.head()",
      "metadata": {
        "colab": {
          "base_uri": "https://localhost:8080/",
          "height": 206
        },
        "executionInfo": {
          "elapsed": 51,
          "status": "ok",
          "timestamp": 1659733318704,
          "user": {
            "displayName": "Lavanya Vijayan",
            "userId": "01043085078394539645"
          },
          "user_tz": 420
        },
        "id": "-oKr7ZPumP4X",
        "outputId": "4f4ea433-8ba5-4cc1-ca33-0da5a2e7fb98",
        "trusted": true
      },
      "execution_count": null,
      "outputs": []
    },
    {
      "cell_type": "markdown",
      "source": "Now, to prepare for the Naive Bayes model that you will build in a later lab, clean the extracted data and ensure ensure it is concise. Naive Bayes involves an assumption that features are independent of each other given the class. In order to satisfy that criteria, if certain features are aggregated to yield new features, it may be necessary to remove those original features. Therefore, drop the columns that were used to extract new features.\n\n**Note:** There are other types of models that do not involve independence assumptions, so this would not be required in those instances. In fact, keeping the original features may be beneficial.",
      "metadata": {
        "id": "_HSGCXKZt61x"
      }
    },
    {
      "cell_type": "code",
      "source": "# Remove any columns from `extracted_data` that are no longer needed.\n\n# Remove `gp`, `pts`, and `min` from `extracted_data`.\nextracted_data = extracted_data.drop(columns=[\"gp\", \"pts\", \"min\"])\n\n# Display the first few rows of `extracted_data` to ensure that column drops took place\n\nextracted_data.head()",
      "metadata": {
        "colab": {
          "base_uri": "https://localhost:8080/",
          "height": 206
        },
        "executionInfo": {
          "elapsed": 45,
          "status": "ok",
          "timestamp": 1659733318708,
          "user": {
            "displayName": "Lavanya Vijayan",
            "userId": "01043085078394539645"
          },
          "user_tz": 420
        },
        "id": "9kF4nRy5r1DV",
        "outputId": "d1ed7d82-3c9a-4a15-f216-03f41d5bb605",
        "trusted": true
      },
      "execution_count": null,
      "outputs": []
    },
    {
      "cell_type": "markdown",
      "source": "Next, export the extracted data as a new .csv file. You will use this in a later lab. ",
      "metadata": {
        "id": "T-_ViHlcwlik"
      }
    },
    {
      "cell_type": "code",
      "source": "# Export the extracted data.\n\nextracted_data.to_csv(\"extracted_nba_players_data.csv\", index=0)",
      "metadata": {
        "id": "gZ_DdQx1xIaN",
        "trusted": true
      },
      "execution_count": null,
      "outputs": []
    },
    {
      "cell_type": "markdown",
      "source": "## **Considerations**\n\n\n**What are some key takeaways that you learned during this project?**\n- It is important to check for class balance in a dataset, particularly in the context of feature engineering and predictive modeling. If the target column in a dataset has more than 90% of its values belonging to one class, it is recommended to redistribute the data; otherwise, once a model is trained on the imbalanced data and predictions are made, the predictions may be biased. \n- Feature selection involves choosing features that help predict the target variable and removing columns that may not be helpful for prediction. In this process, and throughout feature engineering, it is important to make ethical considerations.  \n- Feature transformation involves transforming features so that they are more usable for future modeling purposes, which includes encoding categorical features to turn them into numerical features. \n- Feature extraction involves combining existing columns meaningfully to construct new features that would help improve prediction. \n\n**What summary would you provide to stakeholders? Consider key attributes to be shared from the data, as well as upcoming project plans.**\n- The following attributes about player performance could help predict their NBA career duration and should be included in a presentation to stakeholders: field goals, three-point field goals, free throws, rebounds, assists, steals, blocks, turnovers, total points, and efficiency as points per minute. \n- It would be important to explain that these attributes, along with a relevant dataset, will be used in the next stage of the project. At that point, a model will be built to predict a player's career duration. Insights gained will be shared with stakeholders once the project is complete. Stakeholders would also appreciate being provided with a timeline and key deliverables that they can expect to receive.",
      "metadata": {
        "id": "xur2FC5xAzp0"
      }
    }
  ]
}